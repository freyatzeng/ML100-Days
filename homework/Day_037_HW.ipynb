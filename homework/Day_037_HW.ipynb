{
 "cells": [
  {
   "cell_type": "markdown",
   "metadata": {},
   "source": [
    "## 作業"
   ]
  },
  {
   "cell_type": "markdown",
   "metadata": {},
   "source": [
    "請閱讀以下相關文獻，並回答以下問題\n",
    "\n",
    "[Linear Regression 詳細介紹](https://brohrer.mcknote.com/zh-Hant/how_machine_learning_works/how_linear_regression_works.html)\n",
    "\n",
    "[Logistics Regression 詳細介紹](https://medium.com/@yehjames/%E8%B3%87%E6%96%99%E5%88%86%E6%9E%90-%E6%A9%9F%E5%99%A8%E5%AD%B8%E7%BF%92-%E7%AC%AC3-3%E8%AC%9B-%E7%B7%9A%E6%80%A7%E5%88%86%E9%A1%9E-%E9%82%8F%E8%BC%AF%E6%96%AF%E5%9B%9E%E6%AD%B8-logistic-regression-%E4%BB%8B%E7%B4%B9-a1a5f47017e5)\n"
   ]
  },
  {
   "cell_type": "markdown",
   "metadata": {},
   "source": [
    "### 1. 線性回歸模型能夠準確預測非線性關係的資料集嗎?\n",
    "\n",
    "#### Ans:  線性回歸（Linear regression）是利用稱為線性回歸方程式的最小平方函數對一個或多個自變數和應變數之間關係進行建模的一種回歸分析。這種函數是一個或多個稱為回歸係數的模型參數的線性組合。只有一個自變數的情況為簡單回歸，大於一個自變數情況叫做多元回歸。\n",
    "\n",
    "\n",
    "### 2. 回歸模型是否對資料分布有基本假設?\n",
    "\n",
    "#### Ans: 當資料違反這些基本假設而進行分析時，通常會使研究結果產生偏誤，至於偏誤的程度，當然就視資料違反的程度而定，其假設包含：\n",
    "#### （1）常態性\n",
    "#### （2）變異數同質性\n",
    "#### （3）獨立性\n",
    "\n",
    "refer to :\n",
    "http://dasanlin888.pixnet.net/blog/post/448805852-%E8%BF%B4%E6%AD%B8%E5%88%86%E6%9E%90%E4%B9%8B%E6%AE%98%E5%B7%AE%E5%9F%BA%E6%9C%AC%E5%81%87%E8%A8%AD-%E4%BB%A5spss%E7%82%BA%E4%BE%8B"
   ]
  },
  {
   "cell_type": "code",
   "execution_count": null,
   "metadata": {},
   "outputs": [],
   "source": []
  }
 ],
 "metadata": {
  "kernelspec": {
   "display_name": "Python 3",
   "language": "python",
   "name": "python3"
  },
  "language_info": {
   "codemirror_mode": {
    "name": "ipython",
    "version": 3
   },
   "file_extension": ".py",
   "mimetype": "text/x-python",
   "name": "python",
   "nbconvert_exporter": "python",
   "pygments_lexer": "ipython3",
   "version": "3.7.0"
  }
 },
 "nbformat": 4,
 "nbformat_minor": 2
}
