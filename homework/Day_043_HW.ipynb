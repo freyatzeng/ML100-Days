{
 "cells": [
  {
   "cell_type": "markdown",
   "metadata": {},
   "source": [
    "## 作業\n",
    "\n",
    "閱讀以下兩篇文獻，了解隨機森林原理，並試著回答後續的思考問題\n",
    "- [隨機森林 (random forest) - 中文](http://hhtucode.blogspot.tw/2013/06/ml-random-forest.html)\n",
    "- [how random forest works - 英文](https://medium.com/@Synced/how-random-forest-algorithm-works-in-machine-learning-3c0fe15b6674)"
   ]
  },
  {
   "cell_type": "markdown",
   "metadata": {},
   "source": [
    "\n",
    "1. 隨機森林中的每一棵樹，是希望能夠\n",
    "\n",
    "    - 沒有任何限制，讓樹可以持續生長 (讓樹生成很深，讓模型變得複雜)\n",
    "    \n",
    "    - 不要過度生長，避免 Overfitting\n",
    "    \n",
    "    \n",
    "2. 假設總共有 N 筆資料，每棵樹用取後放回的方式抽了總共 N 筆資料生成，請問這棵樹大約使用了多少 % 不重複的原資料生成?\n",
    "hint: 0.632 bootstrap\n",
    "\n",
    "#### ans: 63%\n"
   ]
  },
  {
   "cell_type": "code",
   "execution_count": null,
   "metadata": {},
   "outputs": [],
   "source": [
    "# http://hhtucode.blogspot.com/2013/06/ml-random-forest.html\n",
    "Bootstrap\n",
    "\n",
    "首先要建立一棵 Tree, 不會用全部的 training data 去 training 一棵 Tree\n",
    "\n",
    "我們為甚麼不用全部的 training data 餵進去就好?\n",
    "\n",
    "如果全部都餵的話, 那我不管建立幾棵 Tree, 結果都是一樣的, 那我乾脆就只要一棵就好了~\n",
    "\n",
    "所以為了讓每棵有所不同, 主要就是 training data 的採樣結果都會不太一樣\n",
    "\n",
    "這邊採樣的方式就是 Bagging\n",
    "\n",
    "Bagging\n",
    "\n",
    "一種採樣方式, 假設全體 training data 有N筆, 你要採集部分資料, \n",
    "\n",
    "但是又不想要採集到全體的資料 (那就不叫採集了), 要如何做?\n",
    "\n",
    "一般常見的方式為: 從 N 筆 data 挑資料, 一次挑一筆, 挑出的會再放回去, 最後計算的時候重複的會不算(with replacement), 假設最後為y, N > y\n",
    "\n",
    "那 y 就是一次標準的 bagging sampling 樣本數, 當然也有人不 replacement, 但是較少人使用"
   ]
  },
  {
   "cell_type": "code",
   "execution_count": null,
   "metadata": {},
   "outputs": [],
   "source": []
  }
 ],
 "metadata": {
  "kernelspec": {
   "display_name": "Python 3",
   "language": "python",
   "name": "python3"
  },
  "language_info": {
   "codemirror_mode": {
    "name": "ipython",
    "version": 3
   },
   "file_extension": ".py",
   "mimetype": "text/x-python",
   "name": "python",
   "nbconvert_exporter": "python",
   "pygments_lexer": "ipython3",
   "version": "3.7.2"
  }
 },
 "nbformat": 4,
 "nbformat_minor": 2
}
